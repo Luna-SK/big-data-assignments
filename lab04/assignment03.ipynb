{
 "cells": [
  {
   "cell_type": "markdown",
   "metadata": {},
   "source": [
    "> 准备工作"
   ]
  },
  {
   "cell_type": "code",
   "execution_count": 2,
   "metadata": {},
   "outputs": [],
   "source": [
    "import requests\n",
    "from bs4 import BeautifulSoup\n",
    "url = 'https://xiyouji.5000yan.com/'\n",
    "headers = { 'User-Agent': 'Mozilla/5.0 (Macintosh; Intel Mac OS X 10_15_7) AppleWebKit/537.36 (KHTML, like Gecko) Chrome/123.0.0.0 Safari/537.36'}"
   ]
  },
  {
   "cell_type": "code",
   "execution_count": 29,
   "metadata": {},
   "outputs": [],
   "source": [
    "urls = []\n",
    "response = requests.get(url, headers=headers)\n",
    "response.encoding = 'utf-8'\n",
    "soup = BeautifulSoup(response.text, 'lxml')\n",
    "elements = soup.find('ul', class_='paiban').find_all('li', class_='menu-item')\n",
    "for element in elements:\n",
    "    urls.append(element.a['href'])\n",
    "url1 = urls[0]\n",
    "response1 = requests.get(url1, headers=headers)\n",
    "response1.encoding = 'utf-8'\n",
    "soup1 = BeautifulSoup(response1.text, 'lxml')"
   ]
  },
  {
   "cell_type": "markdown",
   "metadata": {},
   "source": [
    "> 计算标题局中所需空格数"
   ]
  },
  {
   "cell_type": "code",
   "execution_count": 50,
   "metadata": {},
   "outputs": [
    {
     "name": "stdout",
     "output_type": "stream",
     "text": [
      "19\n",
      "526\n"
     ]
    }
   ],
   "source": [
    "title1 = soup1.find('h2', class_='grap--h2').text\n",
    "print(len(title1)) # 19\n",
    "line = soup1.find('div', class_='grap').find_all('div')[7].text.split('\\n')[1]\n",
    "print(len(line)) # 526"
   ]
  },
  {
   "cell_type": "markdown",
   "metadata": {},
   "source": [
    "> 一行526字，说明正文无固定宽度\n",
    "> 用代码固定宽度40分割正文，标题长19\n",
    "> 则标题前空格长度为9"
   ]
  },
  {
   "cell_type": "markdown",
   "metadata": {},
   "source": [
    "> 以下为写入文件核心代码:"
   ]
  },
  {
   "cell_type": "code",
   "execution_count": 49,
   "metadata": {},
   "outputs": [],
   "source": [
    "with open('xyj.txt', 'w', encoding='utf-8') as f:\n",
    "    for url in urls:\n",
    "        response = requests.get(url, headers=headers)\n",
    "        response.encoding = 'utf-8'\n",
    "        soup = BeautifulSoup(response.text, 'lxml')\n",
    "        title = soup.find('h2', class_='grap--h2').text\n",
    "        passage = soup1.find('div', class_='grap').find_all('div')\n",
    "        f.write('　' * 9 + title + '\\n')\n",
    "        for paragraph in passage:\n",
    "            for i in range(0, len(paragraph.text), 40):\n",
    "                f.write(paragraph.text[i:i+40])\n",
    "                if i + 40 < len(paragraph.text):\n",
    "                    f.write('\\n')\n",
    "        f.write('\\n')\n",
    "        f.write('-' * 65)\n",
    "        f.write('\\n')"
   ]
  },
  {
   "cell_type": "code",
   "execution_count": null,
   "metadata": {},
   "outputs": [],
   "source": []
  }
 ],
 "metadata": {
  "kernelspec": {
   "display_name": "base",
   "language": "python",
   "name": "python3"
  },
  "language_info": {
   "codemirror_mode": {
    "name": "ipython",
    "version": 3
   },
   "file_extension": ".py",
   "mimetype": "text/x-python",
   "name": "python",
   "nbconvert_exporter": "python",
   "pygments_lexer": "ipython3",
   "version": "3.11.5"
  }
 },
 "nbformat": 4,
 "nbformat_minor": 2
}
