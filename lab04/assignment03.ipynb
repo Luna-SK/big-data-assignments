{
 "cells": [
  {
   "cell_type": "markdown",
   "metadata": {},
   "source": [
    "> 准备工作"
   ]
  },
  {
   "cell_type": "code",
   "execution_count": 4,
   "metadata": {},
   "outputs": [],
   "source": [
    "import requests\n",
    "from bs4 import BeautifulSoup\n",
    "url = 'https://xiyouji.5000yan.com/'\n",
    "headers = { 'User-Agent': ''}"
   ]
  },
  {
   "cell_type": "code",
   "execution_count": 5,
   "metadata": {},
   "outputs": [],
   "source": [
    "urls = []\n",
    "resp = requests.get(url, headers=headers)\n",
    "resp.encoding = 'utf-8'\n",
    "soup = BeautifulSoup(resp.text, 'lxml')\n",
    "elements = soup.find('ul', class_='paiban').find_all('li', class_='menu-item')\n",
    "for element in elements:\n",
    "    urls.append(element.a['href'])"
   ]
  },
  {
   "cell_type": "code",
   "execution_count": 6,
   "metadata": {},
   "outputs": [],
   "source": [
    "with open('xiyouji.txt', 'w', encoding='utf-8') as f:\n",
    "    for url in urls:\n",
    "        resp = requests.get(url, headers=headers)\n",
    "        resp.encoding = 'utf-8'\n",
    "        soup = BeautifulSoup(resp.text, 'lxml')\n",
    "        title = soup.find('h2', class_='grap--h2').text\n",
    "        content = soup.find('div', class_='grap').find_all('div')\n",
    "        f.write(title + '\\n')\n",
    "        for element in content:\n",
    "            f.write(element.text)\n",
    "        f.write('\\n')"
   ]
  }
 ],
 "metadata": {
  "kernelspec": {
   "display_name": "base",
   "language": "python",
   "name": "python3"
  },
  "language_info": {
   "codemirror_mode": {
    "name": "ipython",
    "version": 3
   },
   "file_extension": ".py",
   "mimetype": "text/x-python",
   "name": "python",
   "nbconvert_exporter": "python",
   "pygments_lexer": "ipython3",
   "version": "3.11.5"
  }
 },
 "nbformat": 4,
 "nbformat_minor": 2
}
