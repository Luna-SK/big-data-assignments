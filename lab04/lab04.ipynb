{
 "cells": [
  {
   "cell_type": "markdown",
   "metadata": {},
   "source": [
    "> 准备工作"
   ]
  },
  {
   "cell_type": "code",
   "execution_count": 1,
   "metadata": {},
   "outputs": [],
   "source": [
    "import requests\n",
    "from bs4 import BeautifulSoup\n",
    "headers = { 'User-Agent': 'Mozilla/5.0 (Macintosh; Intel Mac OS X 10_15_7) AppleWebKit/537.36 (KHTML, like Gecko) Chrome/123.0.0.0 Safari/537.36'}\n",
    "url = 'http://www.purepen.com/hlm/'"
   ]
  },
  {
   "cell_type": "code",
   "execution_count": 2,
   "metadata": {},
   "outputs": [],
   "source": [
    "urls = []\n",
    "response = requests.get(url, headers=headers)\n",
    "response.encoding = 'gb18030'\n",
    "soup = BeautifulSoup(response.text, 'lxml')\n",
    "table = soup.find('table', cellpadding='3')\n",
    "links = table.find_all('a')\n",
    "for link in links:\n",
    "    urls.append(url + link.get('href'))\n",
    "url1 = urls[0]\n",
    "response1 = requests.get(url1, headers=headers)\n",
    "response1.encoding = 'gb18030'\n",
    "soup1 = BeautifulSoup(response1.text, 'lxml')"
   ]
  },
  {
   "cell_type": "markdown",
   "metadata": {},
   "source": [
    "> 以下为计算标题局中所需空格代码"
   ]
  },
  {
   "cell_type": "code",
   "execution_count": 3,
   "metadata": {},
   "outputs": [
    {
     "name": "stdout",
     "output_type": "stream",
     "text": [
      "21\n",
      "36\n"
     ]
    }
   ],
   "source": [
    "title1 = ' '.join(soup1.font.b.text.strip().split(' ')[1:]) + '\\n'\n",
    "print(len(title1) - 1) # 21\n",
    "line = soup1.find('pre').find('font').text.split('\\n')[3]\n",
    "print(len(line)) # 36"
   ]
  },
  {
   "cell_type": "markdown",
   "metadata": {},
   "source": [
    "> 写入文件核心代码"
   ]
  },
  {
   "cell_type": "code",
   "execution_count": 4,
   "metadata": {},
   "outputs": [],
   "source": [
    "with open('hlm.txt', 'w', encoding='utf-8') as f:\n",
    "    for url in urls:\n",
    "        response = requests.get(url, headers=headers)\n",
    "        response.encoding = 'gb18030'\n",
    "        soup = BeautifulSoup(response.text, 'lxml')\n",
    "        passage = soup.find('pre').find('font')\n",
    "        f.write('　' * 7 + soup.font.b.text.strip()[5:].strip() + '\\n')\n",
    "        f.write(passage.text)\n",
    "        f.write('\\n')\n",
    "        f.write('-' * 50)\n",
    "        f.write('\\n')"
   ]
  }
 ],
 "metadata": {
  "kernelspec": {
   "display_name": "base",
   "language": "python",
   "name": "python3"
  },
  "language_info": {
   "codemirror_mode": {
    "name": "ipython",
    "version": 3
   },
   "file_extension": ".py",
   "mimetype": "text/x-python",
   "name": "python",
   "nbconvert_exporter": "python",
   "pygments_lexer": "ipython3",
   "version": "3.11.5"
  }
 },
 "nbformat": 4,
 "nbformat_minor": 2
}
