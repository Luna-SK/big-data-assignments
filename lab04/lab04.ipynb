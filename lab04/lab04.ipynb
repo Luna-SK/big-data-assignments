{
 "cells": [
  {
   "cell_type": "markdown",
   "metadata": {},
   "source": [
    "> 准备工作"
   ]
  },
  {
   "cell_type": "code",
   "execution_count": 1,
   "metadata": {},
   "outputs": [],
   "source": [
    "import requests\n",
    "from bs4 import BeautifulSoup\n",
    "headers = { 'User-Agent': ''}\n",
    "url = 'http://www.purepen.com/hlm/'"
   ]
  },
  {
   "cell_type": "code",
   "execution_count": 2,
   "metadata": {},
   "outputs": [],
   "source": [
    "urls = []\n",
    "resp = requests.get(url, headers=headers)\n",
    "resp.encoding = 'gb18030'\n",
    "soup = BeautifulSoup(resp.text, 'lxml')\n",
    "table = soup.find('table', cellpadding='3')\n",
    "links = table.find_all('a')\n",
    "for link in links:\n",
    "    urls.append(url + link.get('href'))"
   ]
  },
  {
   "cell_type": "code",
   "execution_count": 3,
   "metadata": {},
   "outputs": [],
   "source": [
    "with open('hongloumeng.txt', 'w', encoding='utf-8') as f:\n",
    "    for url in urls:\n",
    "        resp = requests.get(url, headers=headers)\n",
    "        resp.encoding = 'gb18030'\n",
    "        soup = BeautifulSoup(resp.text, 'lxml')\n",
    "        content = soup.find('pre').find('font')\n",
    "        f.write('　' * 7 + soup.font.b.text.strip()[5:].strip() + '\\n')\n",
    "        f.write(content.text)\n",
    "        f.write('\\n')"
   ]
  }
 ],
 "metadata": {
  "kernelspec": {
   "display_name": "base",
   "language": "python",
   "name": "python3"
  },
  "language_info": {
   "codemirror_mode": {
    "name": "ipython",
    "version": 3
   },
   "file_extension": ".py",
   "mimetype": "text/x-python",
   "name": "python",
   "nbconvert_exporter": "python",
   "pygments_lexer": "ipython3",
   "version": "3.11.5"
  }
 },
 "nbformat": 4,
 "nbformat_minor": 2
}
