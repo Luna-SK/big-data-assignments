{
 "cells": [
  {
   "cell_type": "markdown",
   "metadata": {},
   "source": [
    "### 第1题"
   ]
  },
  {
   "cell_type": "code",
   "execution_count": 1,
   "metadata": {},
   "outputs": [
    {
     "name": "stdout",
     "output_type": "stream",
     "text": [
      "姓名：XXXX\n",
      "志向：software engineer\n"
     ]
    }
   ],
   "source": [
    "class Person:\n",
    "    def __init__(self, name, ambition):\n",
    "        self.name = name\n",
    "        self.ambition = ambition\n",
    "\n",
    "p = Person(\"XXXX\", \"software engineer\")\n",
    "\n",
    "print(f\"姓名：{p.name}\")\n",
    "print(f\"志向：{p.ambition}\")"
   ]
  },
  {
   "cell_type": "markdown",
   "metadata": {},
   "source": [
    "### 第2题"
   ]
  },
  {
   "cell_type": "code",
   "execution_count": 2,
   "metadata": {},
   "outputs": [
    {
     "name": "stdout",
     "output_type": "stream",
     "text": [
      "14天理财的最终收益为: 147.77元\n",
      "777天理财的最终收益为: 136229.73元\n"
     ]
    }
   ],
   "source": [
    "def calculate(base, rate, days):\n",
    "    return base * (1 + rate/365) ** days - base\n",
    "\n",
    "base_14 = 100000\n",
    "rate_14 = 0.0385\n",
    "days_14 = 14\n",
    "\n",
    "base_777 = 1000000\n",
    "rate_777 = 0.06\n",
    "days_777 = 777\n",
    "\n",
    "earnings_14 = calculate(base_14, rate_14, days_14)\n",
    "earnings_777 = calculate(base_777, rate_777, days_777)\n",
    "\n",
    "print(f\"14天理财的最终收益为: {earnings_14:.2f}元\")\n",
    "print(f\"777天理财的最终收益为: {earnings_777:.2f}元\")"
   ]
  },
  {
   "cell_type": "markdown",
   "metadata": {},
   "source": [
    "### 第3题"
   ]
  },
  {
   "cell_type": "code",
   "execution_count": 3,
   "metadata": {},
   "outputs": [
    {
     "name": "stdout",
     "output_type": "stream",
     "text": [
      "[36, 63, 99, 29, 32, 75, 79, 81, 72, 17, 6, 54, 97, 73, 40, 15, 89, 38, 46, 4]\n"
     ]
    }
   ],
   "source": [
    "import random\n",
    "\n",
    "random_numbers = random.sample(range(1, 101), 20)\n",
    "print(random_numbers)"
   ]
  },
  {
   "cell_type": "markdown",
   "metadata": {},
   "source": [
    "### 第4题"
   ]
  },
  {
   "cell_type": "code",
   "execution_count": 4,
   "metadata": {},
   "outputs": [
    {
     "name": "stdout",
     "output_type": "stream",
     "text": [
      "处理后的str1: kill two birds with one stone.\n",
      "字母'e'出现的次数: 2\n",
      "切分后的列表: ['kill', 'two', 'birds', 'with', 'one', 'stone.']\n",
      "处理后的str2: stone\n",
      "str1是否包含str2: 包含，开始索引为24\n"
     ]
    }
   ],
   "source": [
    "str1 = \"Kill Two Birds With One Stone.!!!!\"\n",
    "str2 = \"s,t,o,n,e\"\n",
    "\n",
    "# 第(1)题\n",
    "str1 = str1.lower().strip('.!') + '.'\n",
    "e_count = str1.count('e')\n",
    "str1_list = str1.split()\n",
    "\n",
    "print(f\"处理后的str1: {str1}\")\n",
    "print(f\"字母'e'出现的次数: {e_count}\")\n",
    "print(f\"切分后的列表: {str1_list}\")\n",
    "\n",
    "# 第(2)题\n",
    "str2 = ''.join(str2.split(','))\n",
    "\n",
    "print(f\"处理后的str2: {str2}\")\n",
    "\n",
    "# 第(3)题\n",
    "contains = str1.find(str2)\n",
    "\n",
    "print(f\"str1是否包含str2: {'包含，开始索引为' + str(contains) if contains != -1 else '不包含'}\")"
   ]
  }
 ],
 "metadata": {
  "kernelspec": {
   "display_name": "base",
   "language": "python",
   "name": "python3"
  },
  "language_info": {
   "codemirror_mode": {
    "name": "ipython",
    "version": 3
   },
   "file_extension": ".py",
   "mimetype": "text/x-python",
   "name": "python",
   "nbconvert_exporter": "python",
   "pygments_lexer": "ipython3",
   "version": "3.11.5"
  }
 },
 "nbformat": 4,
 "nbformat_minor": 2
}
