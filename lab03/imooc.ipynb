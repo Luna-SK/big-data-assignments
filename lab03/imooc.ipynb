{
 "cells": [
  {
   "cell_type": "code",
   "execution_count": 28,
   "metadata": {},
   "outputs": [],
   "source": [
    "import requests\n",
    "from bs4 import BeautifulSoup"
   ]
  },
  {
   "cell_type": "code",
   "execution_count": 29,
   "metadata": {},
   "outputs": [],
   "source": [
    "url = 'https://coding.imooc.com/?sort=0&unlearn=0&page={}'\n",
    "headers = {'User-Agent': 'Mozilla/5.0 (Macintosh; Intel Mac OS X 10_15_7) AppleWebKit/537.36 (KHTML, like Gecko) Chrome/123.0.0.0 Safari/537.36'}"
   ]
  },
  {
   "cell_type": "code",
   "execution_count": 31,
   "metadata": {},
   "outputs": [],
   "source": [
    "with open('imooc.txt', 'w') as f:\n",
    "    f.write(\"前两页所有课程名称:\\n\")\n",
    "    prev_len = 0\n",
    "    for i in range(1, 3):\n",
    "        response = requests.get(url.format(i), headers=headers)\n",
    "        soup = BeautifulSoup(response.text, 'html.parser')\n",
    "        course_list = soup.find_all('li', class_='course-card')\n",
    "        for index, course_card in enumerate(course_list):\n",
    "            title = course_card.find('p', class_='title').get_text()\n",
    "            f.write(f'{index + 1 + prev_len}: {title}\\n')\n",
    "        prev_len += len(course_list)"
   ]
  }
 ],
 "metadata": {
  "kernelspec": {
   "display_name": "base",
   "language": "python",
   "name": "python3"
  },
  "language_info": {
   "codemirror_mode": {
    "name": "ipython",
    "version": 3
   },
   "file_extension": ".py",
   "mimetype": "text/x-python",
   "name": "python",
   "nbconvert_exporter": "python",
   "pygments_lexer": "ipython3",
   "version": "3.11.5"
  }
 },
 "nbformat": 4,
 "nbformat_minor": 2
}
