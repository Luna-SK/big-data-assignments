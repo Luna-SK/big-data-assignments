{
 "cells": [
  {
   "cell_type": "code",
   "execution_count": null,
   "metadata": {},
   "outputs": [],
   "source": [
    "from selenium import webdriver\n",
    "from selenium.webdriver.common.by import By\n",
    "from selenium.webdriver.support.ui import WebDriverWait\n",
    "from selenium.webdriver.support import expected_conditions as EC\n",
    "from selenium.webdriver.chrome.options import Options as ChromeOptions\n",
    "from time import sleep\n",
    "import pandas as pd"
   ]
  },
  {
   "cell_type": "code",
   "execution_count": null,
   "metadata": {},
   "outputs": [],
   "source": [
    "options = ChromeOptions()\n",
    "options.set_capability('pageLoadStrategy', 'none')\n",
    "options.add_argument('--disable-blink-features=AutomationControlled')\n",
    "driver = webdriver.Chrome(options=options)"
   ]
  },
  {
   "cell_type": "code",
   "execution_count": null,
   "metadata": {},
   "outputs": [],
   "source": [
    "driver.get('https://www.taobao.com/')\n",
    "wait = WebDriverWait(driver, 5, 0.5)\n",
    "search_input = wait.until(EC.presence_of_element_located((By.CSS_SELECTOR, '#q')))\n",
    "search_input.send_keys('数字电路 书')\n",
    "search_button = wait.until(EC.element_to_be_clickable((By.CSS_SELECTOR, 'button[type=\"submit\"]')))\n",
    "search_button.click()"
   ]
  },
  {
   "cell_type": "code",
   "execution_count": null,
   "metadata": {},
   "outputs": [],
   "source": [
    "total_page = int(wait.until(EC.presence_of_element_located(\n",
    "    (By.XPATH, '//div[@class=\"next-pagination-pages\"]//span[@class=\"next-pagination-display\"]'))).text.split('/')[-1])\n",
    "map_price = lambda price: price.find_element(\n",
    "    By.CLASS_NAME, 'Price--priceInt--ZlsSi_M').text + price.find_element(By.CLASS_NAME, 'Price--priceFloat--h2RR0RK').text\n",
    "titles = []\n",
    "prices = []\n",
    "shops = []\n",
    "for page_num in range(1, total_page + 1):\n",
    "    page_input = wait.until(EC.presence_of_element_located(\n",
    "        (By.XPATH, '//div[@class=\"next-pagination-pages\"]//span[@class=\"next-input next-medium next-pagination-jump-input\"]/input')))\n",
    "    page_input.clear()\n",
    "    page_input.send_keys(page_num)\n",
    "    page_button = wait.until(EC.element_to_be_clickable(\n",
    "        (By.XPATH, '//div[@class=\"next-pagination-pages\"]//button[@class=\"next-btn next-medium next-btn-normal next-pagination-jump-go\"]')))\n",
    "    page_button.click()\n",
    "    sleep(5)\n",
    "    element_list = driver.find_element(\n",
    "        By.CLASS_NAME, 'Content--contentInner--QVTcU0M')\n",
    "    title_list = element_list.find_elements(\n",
    "        By.XPATH, '//div[@class=\"Title--title--jCOPvpf \"]/span')\n",
    "    price_list = element_list.find_elements(\n",
    "        By.XPATH, '//div[@class=\"Price--priceWrapper--Q0Dn7pN \"]/div[@style=\"margin-right: 8px;\"]')\n",
    "    shop_list = element_list.find_elements(\n",
    "        By.XPATH, '//div[@class=\"ShopInfo--TextAndPic--yH0AZfx\"]/a[@class=\"ShopInfo--shopName--rg6mGmy\"]')\n",
    "    titles += [title.text for title in title_list]\n",
    "    prices += [map_price(price) for price in price_list]\n",
    "    shops += [shop.text for shop in shop_list]"
   ]
  },
  {
   "cell_type": "code",
   "execution_count": null,
   "metadata": {},
   "outputs": [],
   "source": [
    "pd.DataFrame({'标题': titles, '价格（元）': prices, '店铺': shops}).to_excel('taobao.xlsx', index=False)"
   ]
  },
  {
   "cell_type": "code",
   "execution_count": null,
   "metadata": {},
   "outputs": [],
   "source": [
    "pd.DataFrame({'标题': titles, '价格（元）': prices, '店铺': shops}).to_csv('taobao.csv', index=False)"
   ]
  },
  {
   "cell_type": "code",
   "execution_count": null,
   "metadata": {},
   "outputs": [],
   "source": []
  }
 ],
 "metadata": {
  "kernelspec": {
   "display_name": "base",
   "language": "python",
   "name": "python3"
  },
  "language_info": {
   "codemirror_mode": {
    "name": "ipython",
    "version": 3
   },
   "file_extension": ".py",
   "mimetype": "text/x-python",
   "name": "python",
   "nbconvert_exporter": "python",
   "pygments_lexer": "ipython3",
   "version": "3.11.7"
  }
 },
 "nbformat": 4,
 "nbformat_minor": 2
}
