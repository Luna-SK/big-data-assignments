{
 "cells": [
  {
   "cell_type": "code",
   "execution_count": 1,
   "metadata": {},
   "outputs": [],
   "source": [
    "import requests\n",
    "from bs4 import BeautifulSoup\n",
    "headers = {\n",
    "        'User-Agent': 'Mozilla/5.0 (Macintosh; Intel Mac OS X 10_15_7) AppleWebKit/537.36 (KHTML, like Gecko) Chrome/122.0.0.0 Safari/537.36',\n",
    "    }"
   ]
  },
  {
   "cell_type": "markdown",
   "metadata": {},
   "source": [
    "### 第1题"
   ]
  },
  {
   "cell_type": "code",
   "execution_count": 2,
   "metadata": {},
   "outputs": [
    {
     "name": "stdout",
     "output_type": "stream",
     "text": [
      "status_code:  200\n",
      "resp.text: 见下方截图\n",
      "resp.encoding:  utf-8\n"
     ]
    }
   ],
   "source": [
    "resp = requests.get('https://www.baidu.com', headers=headers)\n",
    "with open('baidu.html', 'w') as f:\n",
    "    f.write(resp.text)\n",
    "print('status_code: ', str(resp.status_code))\n",
    "print('resp.text: 见下方截图')\n",
    "print('resp.encoding: ', resp.encoding)\n"
   ]
  },
  {
   "cell_type": "markdown",
   "metadata": {},
   "source": [
    "### 第2题"
   ]
  },
  {
   "cell_type": "code",
   "execution_count": 3,
   "metadata": {},
   "outputs": [
    {
     "name": "stdout",
     "output_type": "stream",
     "text": [
      "status_code:  200\n",
      "resp.encoding:  UTF-8\n",
      "首页内容: 写入HTML文件，见下方截图\n"
     ]
    }
   ],
   "source": [
    "resp = requests.get('https://jwxt.wzut.edu.cn/jwglxt/xtgl/login_slogin.html', headers=headers)\n",
    "with open('system.html', 'w') as f:\n",
    "    soup = BeautifulSoup(resp.text, 'html.parser')\n",
    "    f.write(soup.prettify())\n",
    "print('status_code: ', str(resp.status_code))\n",
    "print('resp.encoding: ', resp.encoding)\n",
    "print('首页内容: 写入HTML文件，见下方截图')"
   ]
  },
  {
   "cell_type": "markdown",
   "metadata": {},
   "source": [
    "### 第3题"
   ]
  },
  {
   "cell_type": "code",
   "execution_count": 4,
   "metadata": {},
   "outputs": [],
   "source": [
    "def get_page(page):\n",
    "    url = f'https://read.douban.com/category/100?sort=hot&page={page}'\n",
    "    resp = requests.get(url, headers=headers)\n",
    "    return resp.text\n",
    "for i in range(1, 4):\n",
    "    with open(f'page_{i}.html', 'w') as f:\n",
    "        soup = BeautifulSoup(get_page(i), 'html.parser')\n",
    "        f.write(soup.prettify())"
   ]
  }
 ],
 "metadata": {
  "kernelspec": {
   "display_name": "base",
   "language": "python",
   "name": "python3"
  },
  "language_info": {
   "codemirror_mode": {
    "name": "ipython",
    "version": 3
   },
   "file_extension": ".py",
   "mimetype": "text/x-python",
   "name": "python",
   "nbconvert_exporter": "python",
   "pygments_lexer": "ipython3",
   "version": "3.11.5"
  }
 },
 "nbformat": 4,
 "nbformat_minor": 2
}
