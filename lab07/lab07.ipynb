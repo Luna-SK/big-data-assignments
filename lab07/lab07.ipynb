{
 "cells": [
  {
   "cell_type": "code",
   "execution_count": 2,
   "metadata": {},
   "outputs": [],
   "source": [
    "from selenium import webdriver"
   ]
  },
  {
   "cell_type": "code",
   "execution_count": 2,
   "metadata": {},
   "outputs": [
    {
     "name": "stderr",
     "output_type": "stream",
     "text": [
      "Error sending stats to Plausible: error sending request for url (https://plausible.io/api/event)\n"
     ]
    }
   ],
   "source": [
    "driver = webdriver.Chrome()"
   ]
  },
  {
   "cell_type": "code",
   "execution_count": 3,
   "metadata": {},
   "outputs": [],
   "source": [
    "driver.get('https://www.jd.com/')"
   ]
  },
  {
   "cell_type": "code",
   "execution_count": 4,
   "metadata": {},
   "outputs": [],
   "source": [
    "from selenium.webdriver.common.by import By\n",
    "from selenium.webdriver.common.keys import Keys"
   ]
  },
  {
   "cell_type": "code",
   "execution_count": 5,
   "metadata": {},
   "outputs": [],
   "source": [
    "text_input = driver.find_element(By.ID, 'key')"
   ]
  },
  {
   "cell_type": "code",
   "execution_count": 6,
   "metadata": {},
   "outputs": [],
   "source": [
    "text_input.send_keys('中性笔', Keys.ENTER)"
   ]
  },
  {
   "cell_type": "code",
   "execution_count": 7,
   "metadata": {},
   "outputs": [],
   "source": [
    "shops = driver.find_elements(By.CLASS_NAME, 'hd-shopname')"
   ]
  },
  {
   "cell_type": "code",
   "execution_count": 9,
   "metadata": {},
   "outputs": [
    {
     "name": "stdout",
     "output_type": "stream",
     "text": [
      "得力京东自营官方旗舰店\n",
      "小米京东自营旗舰店\n",
      "得力京东自营官方旗舰店\n",
      "小米京东自营旗舰店\n",
      "得力京东自营官方旗舰店\n",
      "晨光京东自营官方旗舰店\n",
      "广博京东自营官方旗舰店\n",
      "KACO京东自营官方旗舰店\n",
      "三菱京东自营官方旗舰店\n",
      "得力京东自营官方旗舰店\n",
      "得力京东自营官方旗舰店\n",
      "KACO京东自营官方旗舰店\n",
      "白雪京东自营官方旗舰店\n",
      "离草京东自营旗舰店\n",
      "晨光京东自营官方旗舰店\n",
      "得力官方旗舰店\n",
      "锐耀办公专营店\n",
      "白雪京东自营官方旗舰店\n",
      "得力京东自营官方旗舰店\n",
      "晨光京东自营官方旗舰店\n",
      "晨光京东自营官方旗舰店\n",
      "百乐京东自营官方旗舰店\n",
      "晨光宫铭专卖店\n",
      "晨光京东自营官方旗舰店\n",
      "联兴办公用品专营店\n",
      "得力京东自营官方旗舰店\n",
      "晨光京东自营官方旗舰店\n",
      "京喜直营官方店\n",
      "晨光京东自营官方旗舰店\n",
      "得力京东自营官方旗舰店\n"
     ]
    }
   ],
   "source": [
    "for shop in shops:\n",
    "    print(shop.text)"
   ]
  }
 ],
 "metadata": {
  "kernelspec": {
   "display_name": "base",
   "language": "python",
   "name": "python3"
  },
  "language_info": {
   "codemirror_mode": {
    "name": "ipython",
    "version": 3
   },
   "file_extension": ".py",
   "mimetype": "text/x-python",
   "name": "python",
   "nbconvert_exporter": "python",
   "pygments_lexer": "ipython3",
   "version": "3.11.7"
  }
 },
 "nbformat": 4,
 "nbformat_minor": 2
}
